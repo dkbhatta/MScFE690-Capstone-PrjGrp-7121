{
 "cells": [
  {
   "cell_type": "code",
   "execution_count": null,
   "id": "7335f589",
   "metadata": {},
   "outputs": [],
   "source": [
    "import warnings\n",
    "warnings.filterwarnings(\"ignore\")\n",
    "import pandas as pd\n",
    "import yfinance as yf"
   ]
  },
  {
   "cell_type": "code",
   "execution_count": null,
   "id": "e0a4ef72",
   "metadata": {},
   "outputs": [],
   "source": [
    "# NIFTY 50\n",
    "nifty_50_link = 'https://en.wikipedia.org/wiki/NIFTY_50'\n",
    "nifty_50_df = pd.read_html(nifty_50_link)[1]\n",
    "\n",
    "NIFTY_50_TICKER_yfinance = nifty_50_df['Symbol']+'.NS'\n",
    "NIFTY_50_TICKER_yfinance = NIFTY_50_TICKER_yfinance.to_list()\n",
    "\n",
    "# NIFTY NEXT 50\n",
    "nifty_next_50_link = 'https://en.wikipedia.org/wiki/NIFTY_Next_50'\n",
    "nifty_next_50_df = pd.read_html(nifty_next_50_link)[2]\n",
    "\n",
    "NIFTY_NEXT_50_TICKER_yfinance = nifty_next_50_df['Symbol']+'.NS'\n",
    "NIFTY_NEXT_50_TICKER_yfinance = NIFTY_NEXT_50_TICKER_yfinance.to_list()"
   ]
  },
  {
   "cell_type": "code",
   "execution_count": null,
   "id": "ada490d3",
   "metadata": {
    "scrolled": true
   },
   "outputs": [],
   "source": [
    "start_date = '2014-01-01'\n",
    "end_date = '2024-09-16'\n",
    "\n",
    "n50 = pd.DataFrame()\n",
    "nn50 = pd.DataFrame()\n",
    "\n",
    "print(\"Downloading NIFTY 50 data...\")\n",
    "for ticker in NIFTY_50_TICKER_yfinance:\n",
    "    stock_data = yf.download(ticker, start=start_date, end=end_date)['Adj Close']\n",
    "    n50[ticker] = stock_data\n",
    "\n",
    "print(\"NIFTY 50 data Downloaded.\")    \n",
    "print(\"Downloading NIFTY NEXT 50 data...\")\n",
    "\n",
    "for ticker in NIFTY_NEXT_50_TICKER_yfinance:\n",
    "    stock_data = yf.download(ticker, start=start_date, end=end_date)['Adj Close']\n",
    "    nn50[ticker] = stock_data\n",
    "    \n",
    "print(\"NIFTY NEXT 50 data Downloaded.\") "
   ]
  },
  {
   "cell_type": "code",
   "execution_count": null,
   "id": "45cc5d01",
   "metadata": {},
   "outputs": [],
   "source": []
  }
 ],
 "metadata": {
  "kernelspec": {
   "display_name": "Python 3 (ipykernel)",
   "language": "python",
   "name": "python3"
  },
  "language_info": {
   "codemirror_mode": {
    "name": "ipython",
    "version": 3
   },
   "file_extension": ".py",
   "mimetype": "text/x-python",
   "name": "python",
   "nbconvert_exporter": "python",
   "pygments_lexer": "ipython3",
   "version": "3.10.9"
  }
 },
 "nbformat": 4,
 "nbformat_minor": 5
}
