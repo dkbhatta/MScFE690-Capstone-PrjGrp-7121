{
  "nbformat": 4,
  "nbformat_minor": 0,
  "metadata": {
    "colab": {
      "provenance": [],
      "include_colab_link": true
    },
    "kernelspec": {
      "name": "python3",
      "display_name": "Python 3"
    },
    "language_info": {
      "name": "python"
    }
  },
  "cells": [
    {
      "cell_type": "markdown",
      "metadata": {
        "id": "view-in-github",
        "colab_type": "text"
      },
      "source": [
        "<a href=\"https://colab.research.google.com/github/dkbhatta/MScFE690-Capstone-PrjGrp-7121/blob/main/detect_NR7.ipynb\" target=\"_parent\"><img src=\"https://colab.research.google.com/assets/colab-badge.svg\" alt=\"Open In Colab\"/></a>"
      ]
    },
    {
      "cell_type": "code",
      "execution_count": 1,
      "metadata": {
        "id": "YWw8qQfqS7CL"
      },
      "outputs": [],
      "source": [
        "#\n",
        "#This notebook takes a stock ticker input downloads historical data using yFinance and then uses the data to identify dates where NR7 (narrowest range of 7 days) is idetified\n",
        "#"
      ]
    },
    {
      "cell_type": "code",
      "source": [
        "%%capture\n",
        "!pip install yfinance"
      ],
      "metadata": {
        "id": "O7o-vqiyTVM4"
      },
      "execution_count": null,
      "outputs": []
    },
    {
      "cell_type": "code",
      "source": [
        "from warnings import filterwarnings\n",
        "import pandas as pd\n",
        "import yfinance as yf\n",
        "import plotly.graph_objects as go\n",
        "import plotly.offline as pyo\n",
        "\n",
        "filterwarnings('ignore')"
      ],
      "metadata": {
        "id": "bN_PPtarTXgi"
      },
      "execution_count": 2,
      "outputs": []
    },
    {
      "cell_type": "code",
      "source": [
        "def fetch_data(ticker,start,end):\n",
        "  data = yf.download(ticker,start,end,progress=False)\n",
        "  return data"
      ],
      "metadata": {
        "id": "w_lT1TuVTaMW"
      },
      "execution_count": 3,
      "outputs": []
    },
    {
      "cell_type": "code",
      "source": [
        "def detect_NR7(data):\n",
        "  data['Range'] = data['High'] - data['Low']\n",
        "  data['NR7'] = data['Range'].rolling(window=7).min()\n",
        "  nr7_days=[]\n",
        "  for index, row in data.iterrows():\n",
        "    # Check if row['NR7'] is not NaN before comparing to avoid the error\n",
        "    if pd.notna(row['NR7']) and row['Range'] == row['NR7']:\n",
        "      nr7_days.append(index)\n",
        "  return nr7_days"
      ],
      "metadata": {
        "id": "0UPdvfEpTpNP"
      },
      "execution_count": 4,
      "outputs": []
    },
    {
      "cell_type": "code",
      "source": [
        "def plot_NR7(data,nr7_days):\n",
        "  \"\"\"\n",
        "\n",
        "  Args:\n",
        "    data: historical data for the stock\n",
        "    nr7_days: list of dates where the narrowest range of 7 days was identified\n",
        "  \"\"\"\n",
        "  # prompt: plot the data indicating nr7 dates\n",
        "  # Assuming 'data' and 'nr7_days' are already defined from the previous code\n",
        "\n",
        "  fig = go.Figure(data=[go.Candlestick(x=data.index,\n",
        "                open=data['Open'],\n",
        "                high=data['High'],\n",
        "                low=data['Low'],\n",
        "                close=data['Close'])])\n",
        "\n",
        "  # Add markers for NR7 days\n",
        "  for day in nr7_days:\n",
        "      fig.add_shape(type=\"line\",\n",
        "                x0=day.strftime('%Y-%m-%d'),\n",
        "                y0=data.loc[day.strftime('%Y-%m-%d')]['Low'],\n",
        "                x1=day.strftime('%Y-%m-%d'),\n",
        "                y1=data.loc[day.strftime('%Y-%m-%d')]['High'],\n",
        "                line=dict(color=\"Purple\", width=8, dash=\"dot\",))\n",
        "\n",
        "  fig.update_layout(title='Stock Price with NR7 Days Marked')\n",
        "  pyo.plot(fig)\n",
        "  fig.show()\n",
        "  return"
      ],
      "metadata": {
        "id": "vj-LigcaW4uu"
      },
      "execution_count": 5,
      "outputs": []
    },
    {
      "cell_type": "code",
      "source": [
        "def main():\n",
        "  ticker = input(\"Enter the stock ticker: \")\n",
        "  start = input(\"Enter the start date (YYYY-MM-DD): \")\n",
        "  end = input(\"Enter the end date (YYYY-MM-DD): \")\n",
        "  print(f\"Fetching data for {ticker} from {start} to {end}\")\n",
        "  data = fetch_data(ticker,start,end)\n",
        "  nr7_days = detect_NR7(data)\n",
        "  ##print(f\"The following days had the narrowest range of 7 days: {nr7_days}\")\n",
        "  print(f\"The following dates had the narrowest range of 7 days:\")\n",
        "  for day in nr7_days:\n",
        "    print(day.strftime('%Y-%m-%d'))\n",
        "  plot_NR7(data,nr7_days)\n",
        "\n",
        "\n",
        "if __name__ == \"__main__\":\n",
        "  main()\n",
        "\n",
        "#"
      ],
      "metadata": {
        "colab": {
          "base_uri": "https://localhost:8080/",
          "height": 443
        },
        "id": "2kp81-DqUNfC",
        "outputId": "3026f8b2-1cc8-452d-bffb-d5c01fdba750"
      },
      "execution_count": 9,
      "outputs": [
        {
          "output_type": "stream",
          "name": "stdout",
          "text": [
            "Enter the stock ticker: HUT\n",
            "Enter the start date (YYYY-MM-DD): 2024-09-01\n",
            "Enter the end date (YYYY-MM-DD): 2024-12-02\n",
            "Fetching data for HUT from 2024-09-01 to 2024-12-02\n"
          ]
        },
        {
          "output_type": "error",
          "ename": "ValueError",
          "evalue": "The truth value of a Series is ambiguous. Use a.empty, a.bool(), a.item(), a.any() or a.all().",
          "traceback": [
            "\u001b[0;31m---------------------------------------------------------------------------\u001b[0m",
            "\u001b[0;31mValueError\u001b[0m                                Traceback (most recent call last)",
            "\u001b[0;32m<ipython-input-9-d454dd7c756e>\u001b[0m in \u001b[0;36m<cell line: 15>\u001b[0;34m()\u001b[0m\n\u001b[1;32m     14\u001b[0m \u001b[0;34m\u001b[0m\u001b[0m\n\u001b[1;32m     15\u001b[0m \u001b[0;32mif\u001b[0m \u001b[0m__name__\u001b[0m \u001b[0;34m==\u001b[0m \u001b[0;34m\"__main__\"\u001b[0m\u001b[0;34m:\u001b[0m\u001b[0;34m\u001b[0m\u001b[0;34m\u001b[0m\u001b[0m\n\u001b[0;32m---> 16\u001b[0;31m   \u001b[0mmain\u001b[0m\u001b[0;34m(\u001b[0m\u001b[0;34m)\u001b[0m\u001b[0;34m\u001b[0m\u001b[0;34m\u001b[0m\u001b[0m\n\u001b[0m\u001b[1;32m     17\u001b[0m \u001b[0;34m\u001b[0m\u001b[0m\n\u001b[1;32m     18\u001b[0m \u001b[0;31m#\u001b[0m\u001b[0;34m\u001b[0m\u001b[0;34m\u001b[0m\u001b[0m\n",
            "\u001b[0;32m<ipython-input-9-d454dd7c756e>\u001b[0m in \u001b[0;36mmain\u001b[0;34m()\u001b[0m\n\u001b[1;32m      5\u001b[0m   \u001b[0mprint\u001b[0m\u001b[0;34m(\u001b[0m\u001b[0;34mf\"Fetching data for {ticker} from {start} to {end}\"\u001b[0m\u001b[0;34m)\u001b[0m\u001b[0;34m\u001b[0m\u001b[0;34m\u001b[0m\u001b[0m\n\u001b[1;32m      6\u001b[0m   \u001b[0mdata\u001b[0m \u001b[0;34m=\u001b[0m \u001b[0mfetch_data\u001b[0m\u001b[0;34m(\u001b[0m\u001b[0mticker\u001b[0m\u001b[0;34m,\u001b[0m\u001b[0mstart\u001b[0m\u001b[0;34m,\u001b[0m\u001b[0mend\u001b[0m\u001b[0;34m)\u001b[0m\u001b[0;34m\u001b[0m\u001b[0;34m\u001b[0m\u001b[0m\n\u001b[0;32m----> 7\u001b[0;31m   \u001b[0mnr7_days\u001b[0m \u001b[0;34m=\u001b[0m \u001b[0mdetect_NR7\u001b[0m\u001b[0;34m(\u001b[0m\u001b[0mdata\u001b[0m\u001b[0;34m)\u001b[0m\u001b[0;34m\u001b[0m\u001b[0;34m\u001b[0m\u001b[0m\n\u001b[0m\u001b[1;32m      8\u001b[0m   \u001b[0;31m##print(f\"The following days had the narrowest range of 7 days: {nr7_days}\")\u001b[0m\u001b[0;34m\u001b[0m\u001b[0;34m\u001b[0m\u001b[0m\n\u001b[1;32m      9\u001b[0m   \u001b[0mprint\u001b[0m\u001b[0;34m(\u001b[0m\u001b[0;34mf\"The following dates had the narrowest range of 7 days:\"\u001b[0m\u001b[0;34m)\u001b[0m\u001b[0;34m\u001b[0m\u001b[0;34m\u001b[0m\u001b[0m\n",
            "\u001b[0;32m<ipython-input-4-5957eeab1a75>\u001b[0m in \u001b[0;36mdetect_NR7\u001b[0;34m(data)\u001b[0m\n\u001b[1;32m      4\u001b[0m   \u001b[0mnr7_days\u001b[0m\u001b[0;34m=\u001b[0m\u001b[0;34m[\u001b[0m\u001b[0;34m]\u001b[0m\u001b[0;34m\u001b[0m\u001b[0;34m\u001b[0m\u001b[0m\n\u001b[1;32m      5\u001b[0m   \u001b[0;32mfor\u001b[0m \u001b[0mindex\u001b[0m\u001b[0;34m,\u001b[0m \u001b[0mrow\u001b[0m \u001b[0;32min\u001b[0m \u001b[0mdata\u001b[0m\u001b[0;34m.\u001b[0m\u001b[0miterrows\u001b[0m\u001b[0;34m(\u001b[0m\u001b[0;34m)\u001b[0m\u001b[0;34m:\u001b[0m\u001b[0;34m\u001b[0m\u001b[0;34m\u001b[0m\u001b[0m\n\u001b[0;32m----> 6\u001b[0;31m     \u001b[0;32mif\u001b[0m \u001b[0mrow\u001b[0m\u001b[0;34m[\u001b[0m\u001b[0;34m'Range'\u001b[0m\u001b[0;34m]\u001b[0m \u001b[0;34m==\u001b[0m \u001b[0mrow\u001b[0m\u001b[0;34m[\u001b[0m\u001b[0;34m'NR7'\u001b[0m\u001b[0;34m]\u001b[0m\u001b[0;34m:\u001b[0m\u001b[0;34m\u001b[0m\u001b[0;34m\u001b[0m\u001b[0m\n\u001b[0m\u001b[1;32m      7\u001b[0m       \u001b[0mnr7_days\u001b[0m\u001b[0;34m.\u001b[0m\u001b[0mappend\u001b[0m\u001b[0;34m(\u001b[0m\u001b[0mindex\u001b[0m\u001b[0;34m)\u001b[0m\u001b[0;34m\u001b[0m\u001b[0;34m\u001b[0m\u001b[0m\n\u001b[1;32m      8\u001b[0m   \u001b[0;32mreturn\u001b[0m \u001b[0mnr7_days\u001b[0m\u001b[0;34m\u001b[0m\u001b[0;34m\u001b[0m\u001b[0m\n",
            "\u001b[0;32m/usr/local/lib/python3.10/dist-packages/pandas/core/generic.py\u001b[0m in \u001b[0;36m__nonzero__\u001b[0;34m(self)\u001b[0m\n\u001b[1;32m   1575\u001b[0m     \u001b[0;34m@\u001b[0m\u001b[0mfinal\u001b[0m\u001b[0;34m\u001b[0m\u001b[0;34m\u001b[0m\u001b[0m\n\u001b[1;32m   1576\u001b[0m     \u001b[0;32mdef\u001b[0m \u001b[0m__nonzero__\u001b[0m\u001b[0;34m(\u001b[0m\u001b[0mself\u001b[0m\u001b[0;34m)\u001b[0m \u001b[0;34m->\u001b[0m \u001b[0mNoReturn\u001b[0m\u001b[0;34m:\u001b[0m\u001b[0;34m\u001b[0m\u001b[0;34m\u001b[0m\u001b[0m\n\u001b[0;32m-> 1577\u001b[0;31m         raise ValueError(\n\u001b[0m\u001b[1;32m   1578\u001b[0m             \u001b[0;34mf\"The truth value of a {type(self).__name__} is ambiguous. \"\u001b[0m\u001b[0;34m\u001b[0m\u001b[0;34m\u001b[0m\u001b[0m\n\u001b[1;32m   1579\u001b[0m             \u001b[0;34m\"Use a.empty, a.bool(), a.item(), a.any() or a.all().\"\u001b[0m\u001b[0;34m\u001b[0m\u001b[0;34m\u001b[0m\u001b[0m\n",
            "\u001b[0;31mValueError\u001b[0m: The truth value of a Series is ambiguous. Use a.empty, a.bool(), a.item(), a.any() or a.all()."
          ]
        }
      ]
    }
  ]
}