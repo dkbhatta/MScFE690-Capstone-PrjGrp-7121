{
  "nbformat": 4,
  "nbformat_minor": 0,
  "metadata": {
    "colab": {
      "provenance": [],
      "authorship_tag": "ABX9TyPpe1JBOvMhUzC0DKym/Rk1",
      "include_colab_link": true
    },
    "kernelspec": {
      "name": "python3",
      "display_name": "Python 3"
    },
    "language_info": {
      "name": "python"
    }
  },
  "cells": [
    {
      "cell_type": "markdown",
      "metadata": {
        "id": "view-in-github",
        "colab_type": "text"
      },
      "source": [
        "<a href=\"https://colab.research.google.com/github/dkbhatta/MScFE690-Capstone-PrjGrp-7121/blob/Dev/detect_NR7.ipynb\" target=\"_parent\"><img src=\"https://colab.research.google.com/assets/colab-badge.svg\" alt=\"Open In Colab\"/></a>"
      ]
    },
    {
      "cell_type": "code",
      "execution_count": null,
      "metadata": {
        "id": "YWw8qQfqS7CL"
      },
      "outputs": [],
      "source": [
        "#\n",
        "#This notebook takes a stock ticker input downloads historical data using yFinance and then uses the data to identify dates where NR7 (narrowest range of 7 days) is idetified\n",
        "#"
      ]
    },
    {
      "cell_type": "code",
      "source": [
        "%%capture\n",
        "!pip install yfinance"
      ],
      "metadata": {
        "id": "O7o-vqiyTVM4"
      },
      "execution_count": null,
      "outputs": []
    },
    {
      "cell_type": "code",
      "source": [
        "from warnings import filterwarnings\n",
        "import pandas as pd\n",
        "import yfinance as yf\n",
        "import plotly.graph_objects as go\n",
        "import plotly.offline as pyo\n",
        "\n",
        "filterwarnings('ignore')"
      ],
      "metadata": {
        "id": "bN_PPtarTXgi"
      },
      "execution_count": null,
      "outputs": []
    },
    {
      "cell_type": "code",
      "source": [
        "def fetch_data(ticker,start,end):\n",
        "  data = yf.download(ticker,start,end,progress=False)\n",
        "  return data"
      ],
      "metadata": {
        "id": "w_lT1TuVTaMW"
      },
      "execution_count": null,
      "outputs": []
    },
    {
      "cell_type": "code",
      "source": [
        "def detect_NR7(data):\n",
        "  data['Range'] = data['High'] - data['Low']\n",
        "  data['NR7'] = data['Range'].rolling(window=7).min()\n",
        "  nr7_days=[]\n",
        "  for index, row in data.iterrows():\n",
        "    if row['Range'] == row['NR7']:\n",
        "      nr7_days.append(index)\n",
        "  return nr7_days"
      ],
      "metadata": {
        "id": "0UPdvfEpTpNP"
      },
      "execution_count": null,
      "outputs": []
    },
    {
      "cell_type": "code",
      "source": [
        "def plot_NR7(data,nr7_days):\n",
        "  \"\"\"\n",
        "\n",
        "  Args:\n",
        "    data: historical data for the stock\n",
        "    nr7_days: list of dates where the narrowest range of 7 days was identified\n",
        "  \"\"\"\n",
        "  # prompt: plot the data indicating nr7 dates\n",
        "  # Assuming 'data' and 'nr7_days' are already defined from the previous code\n",
        "\n",
        "  fig = go.Figure(data=[go.Candlestick(x=data.index,\n",
        "                open=data['Open'],\n",
        "                high=data['High'],\n",
        "                low=data['Low'],\n",
        "                close=data['Close'])])\n",
        "\n",
        "  # Add markers for NR7 days\n",
        "  for day in nr7_days:\n",
        "      fig.add_shape(type=\"line\",\n",
        "                x0=day.strftime('%Y-%m-%d'),\n",
        "                y0=data.loc[day.strftime('%Y-%m-%d')]['Low'],\n",
        "                x1=day.strftime('%Y-%m-%d'),\n",
        "                y1=data.loc[day.strftime('%Y-%m-%d')]['High'],\n",
        "                line=dict(color=\"Purple\", width=8, dash=\"dot\",))\n",
        "\n",
        "  fig.update_layout(title='Stock Price with NR7 Days Marked')\n",
        "  pyo.plot(fig)\n",
        "  fig.show()\n",
        "  return"
      ],
      "metadata": {
        "id": "vj-LigcaW4uu"
      },
      "execution_count": null,
      "outputs": []
    },
    {
      "cell_type": "code",
      "source": [
        "def main():\n",
        "  ticker = input(\"Enter the stock ticker: \")\n",
        "  start = input(\"Enter the start date (YYYY-MM-DD): \")\n",
        "  end = input(\"Enter the end date (YYYY-MM-DD): \")\n",
        "  print(f\"Fetching data for {ticker} from {start} to {end}\")\n",
        "  data = fetch_data(ticker,start,end)\n",
        "  nr7_days = detect_NR7(data)\n",
        "  ##print(f\"The following days had the narrowest range of 7 days: {nr7_days}\")\n",
        "  print(f\"The following dates had the narrowest range of 7 days:\")\n",
        "  for day in nr7_days:\n",
        "    print(day.strftime('%Y-%m-%d'))\n",
        "  plot_NR7(data,nr7_days)\n",
        "if __name__ == \"__main__\":\n",
        "  main()\n",
        "#"
      ],
      "metadata": {
        "colab": {
          "base_uri": "https://localhost:8080/",
          "height": 837
        },
        "id": "2kp81-DqUNfC",
        "outputId": "b752a3cd-fcfa-418b-a88d-c611d7d10549"
      },
      "execution_count": null,
      "outputs": [
        {
          "output_type": "stream",
          "name": "stdout",
          "text": [
            "Enter the stock ticker: TATASTEEL.NS\n",
            "Enter the start date (YYYY-MM-DD): 2024-06-30\n",
            "Enter the end date (YYYY-MM-DD): 2024-10-08\n",
            "Fetching data for TATASTEEL.NS from 2024-06-30 to 2024-10-08\n",
            "The following dates had the narrowest range of 7 days:\n",
            "2024-07-24\n",
            "2024-07-25\n",
            "2024-08-07\n",
            "2024-08-09\n",
            "2024-08-21\n",
            "2024-08-22\n",
            "2024-08-23\n",
            "2024-09-02\n",
            "2024-09-03\n",
            "2024-09-16\n",
            "2024-09-17\n",
            "2024-09-23\n"
          ]
        },
        {
          "output_type": "display_data",
          "data": {
            "text/html": [
              "<html>\n",
              "<head><meta charset=\"utf-8\" /></head>\n",
              "<body>\n",
              "    <div>            <script src=\"https://cdnjs.cloudflare.com/ajax/libs/mathjax/2.7.5/MathJax.js?config=TeX-AMS-MML_SVG\"></script><script type=\"text/javascript\">if (window.MathJax && window.MathJax.Hub && window.MathJax.Hub.Config) {window.MathJax.Hub.Config({SVG: {font: \"STIX-Web\"}});}</script>                <script type=\"text/javascript\">window.PlotlyConfig = {MathJaxConfig: 'local'};</script>\n",
              "        <script charset=\"utf-8\" src=\"https://cdn.plot.ly/plotly-2.35.2.min.js\"></script>                <div id=\"9188c51e-bafd-4477-8b19-6f043dfac88b\" class=\"plotly-graph-div\" style=\"height:525px; width:100%;\"></div>            <script type=\"text/javascript\">                                    window.PLOTLYENV=window.PLOTLYENV || {};                                    if (document.getElementById(\"9188c51e-bafd-4477-8b19-6f043dfac88b\")) {                    Plotly.newPlot(                        \"9188c51e-bafd-4477-8b19-6f043dfac88b\",                        [{\"close\":[174.07000732421875,174.5399932861328,176.3699951171875,176.2899932861328,174.7100067138672,172.27999877929688,171.8000030517578,167.97999572753906,168.9199981689453,168.69000244140625,166.75999450683594,167.07000732421875,166.36000061035156,157.77000427246094,160.32000732421875,160.02000427246094,160.30999755859375,157.38999938964844,162.5500030517578,162.8699951171875,164.07000732421875,165.3300018310547,163.05999755859375,158.22000122070312,149.82000732421875,150.32000732421875,153.86000061035156,150.27999877929688,151.80999755859375,152.05999755859375,148.8800048828125,146.1699981689453,149.52000427246094,153.9600067138672,153.92999267578125,151.9199981689453,154.13999938964844,154.1999969482422,155.6999969482422,154.6999969482422,153.6999969482422,152.97000122070312,152.75999450683594,152.8800048828125,152.14999389648438,151.17999267578125,151.72000122070312,151.22000122070312,149.47000122070312,149.4199981689453,148.1699981689453,151.74000549316406,153.49000549316406,154.2100067138672,152.82000732421875,150.60000610351562,149.5399932861328,152.02000427246094,153.99000549316406,160.52999877929688,161.66000366210938,165.61000061035156,166.5500030517578,168.5500030517578,167.02999877929688,166.97999572753906,166.75,164.36000061035156],\"high\":[175.99000549316406,175.75,176.8800048828125,178.19000244140625,176.1999969482422,175.47000122070312,173.6999969482422,172.88999938964844,170.9499969482422,170.38999938964844,168.99000549316406,169.82000732421875,167.61000061035156,166.08999633789062,160.6999969482422,161.97000122070312,162.02000427246094,158.5,162.9499969482422,164.6999969482422,165.3000030517578,166.5,168.9499969482422,161.19000244140625,154.0,153.8000030517578,154.3000030517578,153.44000244140625,153.0,153.39999389648438,152.9499969482422,149.89999389648438,150.0,154.3000030517578,155.6999969482422,154.17999267578125,154.35000610351562,154.38999938964844,156.39999389648438,156.5,155.0,153.55999755859375,155.25,153.89999389648438,153.4499969482422,152.17999267578125,152.7899932861328,152.89999389648438,150.89999389648438,151.58999633789062,150.1999969482422,152.44000244140625,155.39999389648438,155.66000366210938,154.24000549316406,152.97999572753906,152.19000244140625,153.33999633789062,154.38999938964844,161.5,162.69000244140625,165.89999389648438,169.00999450683594,170.17999267578125,169.49000549316406,169.99000549316406,169.10000610351562,167.9499969482422],\"low\":[173.50999450683594,173.60000610351562,174.39999389648438,175.82000732421875,173.39999389648438,172.08999633789062,171.50999450683594,167.02000427246094,168.6699981689453,168.00999450683594,165.8000030517578,166.6999969482422,164.44000244140625,157.1999969482422,156.41000366210938,155.0,159.19000244140625,156.89999389648438,158.2100067138672,162.3300018310547,161.30999755859375,163.5500030517578,160.89999389648438,154.72000122070312,149.0,149.61000061035156,151.89999389648438,150.0,151.25,149.8800048828125,148.5,142.35000610351562,146.4600067138672,150.38999938964844,152.8000030517578,151.77000427246094,152.50999450683594,152.5500030517578,153.6999969482422,154.60000610351562,153.0500030517578,151.1999969482422,152.47000122070312,152.13999938964844,152.00999450683594,149.16000366210938,151.0,149.64999389648438,148.0500030517578,148.80999755859375,147.6199951171875,148.75,152.5,153.5,152.27000427246094,149.61000061035156,147.7899932861328,150.64999389648438,152.8000030517578,154.85000610351562,159.52000427246094,160.47999572753906,165.88999938964844,167.25999450683594,165.10000610351562,164.52000427246094,164.0,162.3300018310547],\"open\":[174.5,174.47000122070312,174.5399932861328,177.0,176.1999969482422,174.60000610351562,173.60000610351562,172.5,170.0,170.1999969482422,168.69000244140625,167.8000030517578,167.61000061035156,166.0,158.39999389648438,161.60000610351562,160.02000427246094,158.5,158.75,164.6999969482422,162.89999389648438,166.2899932861328,168.1999969482422,161.0,153.66000366210938,151.2100067138672,153.6999969482422,153.39999389648438,153.0,151.0,152.10000610351562,149.89999389648438,148.0,150.85000610351562,155.6999969482422,153.0,152.50999450683594,154.0,154.61000061035156,155.8000030517578,154.6999969482422,153.2100067138672,153.0,153.89999389648438,152.83999633789062,149.5,151.0,151.94000244140625,150.89999389648438,150.5,149.89999389648438,152.0,152.77999877929688,155.0,154.0,152.39999389648438,151.88999938964844,151.0,154.3800048828125,155.14999389648438,161.5,162.0,167.0,167.5,169.49000549316406,165.5,167.0,167.10000610351562],\"x\":[\"2024-07-01T00:00:00\",\"2024-07-02T00:00:00\",\"2024-07-03T00:00:00\",\"2024-07-04T00:00:00\",\"2024-07-05T00:00:00\",\"2024-07-08T00:00:00\",\"2024-07-09T00:00:00\",\"2024-07-10T00:00:00\",\"2024-07-11T00:00:00\",\"2024-07-12T00:00:00\",\"2024-07-15T00:00:00\",\"2024-07-16T00:00:00\",\"2024-07-18T00:00:00\",\"2024-07-19T00:00:00\",\"2024-07-22T00:00:00\",\"2024-07-23T00:00:00\",\"2024-07-24T00:00:00\",\"2024-07-25T00:00:00\",\"2024-07-26T00:00:00\",\"2024-07-29T00:00:00\",\"2024-07-30T00:00:00\",\"2024-07-31T00:00:00\",\"2024-08-01T00:00:00\",\"2024-08-02T00:00:00\",\"2024-08-05T00:00:00\",\"2024-08-06T00:00:00\",\"2024-08-07T00:00:00\",\"2024-08-08T00:00:00\",\"2024-08-09T00:00:00\",\"2024-08-12T00:00:00\",\"2024-08-13T00:00:00\",\"2024-08-14T00:00:00\",\"2024-08-16T00:00:00\",\"2024-08-19T00:00:00\",\"2024-08-20T00:00:00\",\"2024-08-21T00:00:00\",\"2024-08-22T00:00:00\",\"2024-08-23T00:00:00\",\"2024-08-26T00:00:00\",\"2024-08-27T00:00:00\",\"2024-08-28T00:00:00\",\"2024-08-29T00:00:00\",\"2024-08-30T00:00:00\",\"2024-09-02T00:00:00\",\"2024-09-03T00:00:00\",\"2024-09-04T00:00:00\",\"2024-09-05T00:00:00\",\"2024-09-06T00:00:00\",\"2024-09-09T00:00:00\",\"2024-09-10T00:00:00\",\"2024-09-11T00:00:00\",\"2024-09-12T00:00:00\",\"2024-09-13T00:00:00\",\"2024-09-16T00:00:00\",\"2024-09-17T00:00:00\",\"2024-09-18T00:00:00\",\"2024-09-19T00:00:00\",\"2024-09-20T00:00:00\",\"2024-09-23T00:00:00\",\"2024-09-24T00:00:00\",\"2024-09-25T00:00:00\",\"2024-09-26T00:00:00\",\"2024-09-27T00:00:00\",\"2024-09-30T00:00:00\",\"2024-10-01T00:00:00\",\"2024-10-03T00:00:00\",\"2024-10-04T00:00:00\",\"2024-10-07T00:00:00\"],\"type\":\"candlestick\"}],                        {\"template\":{\"data\":{\"histogram2dcontour\":[{\"type\":\"histogram2dcontour\",\"colorbar\":{\"outlinewidth\":0,\"ticks\":\"\"},\"colorscale\":[[0.0,\"#0d0887\"],[0.1111111111111111,\"#46039f\"],[0.2222222222222222,\"#7201a8\"],[0.3333333333333333,\"#9c179e\"],[0.4444444444444444,\"#bd3786\"],[0.5555555555555556,\"#d8576b\"],[0.6666666666666666,\"#ed7953\"],[0.7777777777777778,\"#fb9f3a\"],[0.8888888888888888,\"#fdca26\"],[1.0,\"#f0f921\"]]}],\"choropleth\":[{\"type\":\"choropleth\",\"colorbar\":{\"outlinewidth\":0,\"ticks\":\"\"}}],\"histogram2d\":[{\"type\":\"histogram2d\",\"colorbar\":{\"outlinewidth\":0,\"ticks\":\"\"},\"colorscale\":[[0.0,\"#0d0887\"],[0.1111111111111111,\"#46039f\"],[0.2222222222222222,\"#7201a8\"],[0.3333333333333333,\"#9c179e\"],[0.4444444444444444,\"#bd3786\"],[0.5555555555555556,\"#d8576b\"],[0.6666666666666666,\"#ed7953\"],[0.7777777777777778,\"#fb9f3a\"],[0.8888888888888888,\"#fdca26\"],[1.0,\"#f0f921\"]]}],\"heatmap\":[{\"type\":\"heatmap\",\"colorbar\":{\"outlinewidth\":0,\"ticks\":\"\"},\"colorscale\":[[0.0,\"#0d0887\"],[0.1111111111111111,\"#46039f\"],[0.2222222222222222,\"#7201a8\"],[0.3333333333333333,\"#9c179e\"],[0.4444444444444444,\"#bd3786\"],[0.5555555555555556,\"#d8576b\"],[0.6666666666666666,\"#ed7953\"],[0.7777777777777778,\"#fb9f3a\"],[0.8888888888888888,\"#fdca26\"],[1.0,\"#f0f921\"]]}],\"heatmapgl\":[{\"type\":\"heatmapgl\",\"colorbar\":{\"outlinewidth\":0,\"ticks\":\"\"},\"colorscale\":[[0.0,\"#0d0887\"],[0.1111111111111111,\"#46039f\"],[0.2222222222222222,\"#7201a8\"],[0.3333333333333333,\"#9c179e\"],[0.4444444444444444,\"#bd3786\"],[0.5555555555555556,\"#d8576b\"],[0.6666666666666666,\"#ed7953\"],[0.7777777777777778,\"#fb9f3a\"],[0.8888888888888888,\"#fdca26\"],[1.0,\"#f0f921\"]]}],\"contourcarpet\":[{\"type\":\"contourcarpet\",\"colorbar\":{\"outlinewidth\":0,\"ticks\":\"\"}}],\"contour\":[{\"type\":\"contour\",\"colorbar\":{\"outlinewidth\":0,\"ticks\":\"\"},\"colorscale\":[[0.0,\"#0d0887\"],[0.1111111111111111,\"#46039f\"],[0.2222222222222222,\"#7201a8\"],[0.3333333333333333,\"#9c179e\"],[0.4444444444444444,\"#bd3786\"],[0.5555555555555556,\"#d8576b\"],[0.6666666666666666,\"#ed7953\"],[0.7777777777777778,\"#fb9f3a\"],[0.8888888888888888,\"#fdca26\"],[1.0,\"#f0f921\"]]}],\"surface\":[{\"type\":\"surface\",\"colorbar\":{\"outlinewidth\":0,\"ticks\":\"\"},\"colorscale\":[[0.0,\"#0d0887\"],[0.1111111111111111,\"#46039f\"],[0.2222222222222222,\"#7201a8\"],[0.3333333333333333,\"#9c179e\"],[0.4444444444444444,\"#bd3786\"],[0.5555555555555556,\"#d8576b\"],[0.6666666666666666,\"#ed7953\"],[0.7777777777777778,\"#fb9f3a\"],[0.8888888888888888,\"#fdca26\"],[1.0,\"#f0f921\"]]}],\"mesh3d\":[{\"type\":\"mesh3d\",\"colorbar\":{\"outlinewidth\":0,\"ticks\":\"\"}}],\"scatter\":[{\"fillpattern\":{\"fillmode\":\"overlay\",\"size\":10,\"solidity\":0.2},\"type\":\"scatter\"}],\"parcoords\":[{\"type\":\"parcoords\",\"line\":{\"colorbar\":{\"outlinewidth\":0,\"ticks\":\"\"}}}],\"scatterpolargl\":[{\"type\":\"scatterpolargl\",\"marker\":{\"colorbar\":{\"outlinewidth\":0,\"ticks\":\"\"}}}],\"bar\":[{\"error_x\":{\"color\":\"#2a3f5f\"},\"error_y\":{\"color\":\"#2a3f5f\"},\"marker\":{\"line\":{\"color\":\"#E5ECF6\",\"width\":0.5},\"pattern\":{\"fillmode\":\"overlay\",\"size\":10,\"solidity\":0.2}},\"type\":\"bar\"}],\"scattergeo\":[{\"type\":\"scattergeo\",\"marker\":{\"colorbar\":{\"outlinewidth\":0,\"ticks\":\"\"}}}],\"scatterpolar\":[{\"type\":\"scatterpolar\",\"marker\":{\"colorbar\":{\"outlinewidth\":0,\"ticks\":\"\"}}}],\"histogram\":[{\"marker\":{\"pattern\":{\"fillmode\":\"overlay\",\"size\":10,\"solidity\":0.2}},\"type\":\"histogram\"}],\"scattergl\":[{\"type\":\"scattergl\",\"marker\":{\"colorbar\":{\"outlinewidth\":0,\"ticks\":\"\"}}}],\"scatter3d\":[{\"type\":\"scatter3d\",\"line\":{\"colorbar\":{\"outlinewidth\":0,\"ticks\":\"\"}},\"marker\":{\"colorbar\":{\"outlinewidth\":0,\"ticks\":\"\"}}}],\"scattermapbox\":[{\"type\":\"scattermapbox\",\"marker\":{\"colorbar\":{\"outlinewidth\":0,\"ticks\":\"\"}}}],\"scatterternary\":[{\"type\":\"scatterternary\",\"marker\":{\"colorbar\":{\"outlinewidth\":0,\"ticks\":\"\"}}}],\"scattercarpet\":[{\"type\":\"scattercarpet\",\"marker\":{\"colorbar\":{\"outlinewidth\":0,\"ticks\":\"\"}}}],\"carpet\":[{\"aaxis\":{\"endlinecolor\":\"#2a3f5f\",\"gridcolor\":\"white\",\"linecolor\":\"white\",\"minorgridcolor\":\"white\",\"startlinecolor\":\"#2a3f5f\"},\"baxis\":{\"endlinecolor\":\"#2a3f5f\",\"gridcolor\":\"white\",\"linecolor\":\"white\",\"minorgridcolor\":\"white\",\"startlinecolor\":\"#2a3f5f\"},\"type\":\"carpet\"}],\"table\":[{\"cells\":{\"fill\":{\"color\":\"#EBF0F8\"},\"line\":{\"color\":\"white\"}},\"header\":{\"fill\":{\"color\":\"#C8D4E3\"},\"line\":{\"color\":\"white\"}},\"type\":\"table\"}],\"barpolar\":[{\"marker\":{\"line\":{\"color\":\"#E5ECF6\",\"width\":0.5},\"pattern\":{\"fillmode\":\"overlay\",\"size\":10,\"solidity\":0.2}},\"type\":\"barpolar\"}],\"pie\":[{\"automargin\":true,\"type\":\"pie\"}]},\"layout\":{\"autotypenumbers\":\"strict\",\"colorway\":[\"#636efa\",\"#EF553B\",\"#00cc96\",\"#ab63fa\",\"#FFA15A\",\"#19d3f3\",\"#FF6692\",\"#B6E880\",\"#FF97FF\",\"#FECB52\"],\"font\":{\"color\":\"#2a3f5f\"},\"hovermode\":\"closest\",\"hoverlabel\":{\"align\":\"left\"},\"paper_bgcolor\":\"white\",\"plot_bgcolor\":\"#E5ECF6\",\"polar\":{\"bgcolor\":\"#E5ECF6\",\"angularaxis\":{\"gridcolor\":\"white\",\"linecolor\":\"white\",\"ticks\":\"\"},\"radialaxis\":{\"gridcolor\":\"white\",\"linecolor\":\"white\",\"ticks\":\"\"}},\"ternary\":{\"bgcolor\":\"#E5ECF6\",\"aaxis\":{\"gridcolor\":\"white\",\"linecolor\":\"white\",\"ticks\":\"\"},\"baxis\":{\"gridcolor\":\"white\",\"linecolor\":\"white\",\"ticks\":\"\"},\"caxis\":{\"gridcolor\":\"white\",\"linecolor\":\"white\",\"ticks\":\"\"}},\"coloraxis\":{\"colorbar\":{\"outlinewidth\":0,\"ticks\":\"\"}},\"colorscale\":{\"sequential\":[[0.0,\"#0d0887\"],[0.1111111111111111,\"#46039f\"],[0.2222222222222222,\"#7201a8\"],[0.3333333333333333,\"#9c179e\"],[0.4444444444444444,\"#bd3786\"],[0.5555555555555556,\"#d8576b\"],[0.6666666666666666,\"#ed7953\"],[0.7777777777777778,\"#fb9f3a\"],[0.8888888888888888,\"#fdca26\"],[1.0,\"#f0f921\"]],\"sequentialminus\":[[0.0,\"#0d0887\"],[0.1111111111111111,\"#46039f\"],[0.2222222222222222,\"#7201a8\"],[0.3333333333333333,\"#9c179e\"],[0.4444444444444444,\"#bd3786\"],[0.5555555555555556,\"#d8576b\"],[0.6666666666666666,\"#ed7953\"],[0.7777777777777778,\"#fb9f3a\"],[0.8888888888888888,\"#fdca26\"],[1.0,\"#f0f921\"]],\"diverging\":[[0,\"#8e0152\"],[0.1,\"#c51b7d\"],[0.2,\"#de77ae\"],[0.3,\"#f1b6da\"],[0.4,\"#fde0ef\"],[0.5,\"#f7f7f7\"],[0.6,\"#e6f5d0\"],[0.7,\"#b8e186\"],[0.8,\"#7fbc41\"],[0.9,\"#4d9221\"],[1,\"#276419\"]]},\"xaxis\":{\"gridcolor\":\"white\",\"linecolor\":\"white\",\"ticks\":\"\",\"title\":{\"standoff\":15},\"zerolinecolor\":\"white\",\"automargin\":true,\"zerolinewidth\":2},\"yaxis\":{\"gridcolor\":\"white\",\"linecolor\":\"white\",\"ticks\":\"\",\"title\":{\"standoff\":15},\"zerolinecolor\":\"white\",\"automargin\":true,\"zerolinewidth\":2},\"scene\":{\"xaxis\":{\"backgroundcolor\":\"#E5ECF6\",\"gridcolor\":\"white\",\"linecolor\":\"white\",\"showbackground\":true,\"ticks\":\"\",\"zerolinecolor\":\"white\",\"gridwidth\":2},\"yaxis\":{\"backgroundcolor\":\"#E5ECF6\",\"gridcolor\":\"white\",\"linecolor\":\"white\",\"showbackground\":true,\"ticks\":\"\",\"zerolinecolor\":\"white\",\"gridwidth\":2},\"zaxis\":{\"backgroundcolor\":\"#E5ECF6\",\"gridcolor\":\"white\",\"linecolor\":\"white\",\"showbackground\":true,\"ticks\":\"\",\"zerolinecolor\":\"white\",\"gridwidth\":2}},\"shapedefaults\":{\"line\":{\"color\":\"#2a3f5f\"}},\"annotationdefaults\":{\"arrowcolor\":\"#2a3f5f\",\"arrowhead\":0,\"arrowwidth\":1},\"geo\":{\"bgcolor\":\"white\",\"landcolor\":\"#E5ECF6\",\"subunitcolor\":\"white\",\"showland\":true,\"showlakes\":true,\"lakecolor\":\"white\"},\"title\":{\"x\":0.05},\"mapbox\":{\"style\":\"light\"}}},\"shapes\":[{\"line\":{\"color\":\"Purple\",\"dash\":\"dot\",\"width\":8},\"type\":\"line\",\"x0\":\"2024-07-24\",\"x1\":\"2024-07-24\",\"y0\":159.19000244140625,\"y1\":162.02000427246094},{\"line\":{\"color\":\"Purple\",\"dash\":\"dot\",\"width\":8},\"type\":\"line\",\"x0\":\"2024-07-25\",\"x1\":\"2024-07-25\",\"y0\":156.89999389648438,\"y1\":158.5},{\"line\":{\"color\":\"Purple\",\"dash\":\"dot\",\"width\":8},\"type\":\"line\",\"x0\":\"2024-08-07\",\"x1\":\"2024-08-07\",\"y0\":151.89999389648438,\"y1\":154.3000030517578},{\"line\":{\"color\":\"Purple\",\"dash\":\"dot\",\"width\":8},\"type\":\"line\",\"x0\":\"2024-08-09\",\"x1\":\"2024-08-09\",\"y0\":151.25,\"y1\":153.0},{\"line\":{\"color\":\"Purple\",\"dash\":\"dot\",\"width\":8},\"type\":\"line\",\"x0\":\"2024-08-21\",\"x1\":\"2024-08-21\",\"y0\":151.77000427246094,\"y1\":154.17999267578125},{\"line\":{\"color\":\"Purple\",\"dash\":\"dot\",\"width\":8},\"type\":\"line\",\"x0\":\"2024-08-22\",\"x1\":\"2024-08-22\",\"y0\":152.50999450683594,\"y1\":154.35000610351562},{\"line\":{\"color\":\"Purple\",\"dash\":\"dot\",\"width\":8},\"type\":\"line\",\"x0\":\"2024-08-23\",\"x1\":\"2024-08-23\",\"y0\":152.5500030517578,\"y1\":154.38999938964844},{\"line\":{\"color\":\"Purple\",\"dash\":\"dot\",\"width\":8},\"type\":\"line\",\"x0\":\"2024-09-02\",\"x1\":\"2024-09-02\",\"y0\":152.13999938964844,\"y1\":153.89999389648438},{\"line\":{\"color\":\"Purple\",\"dash\":\"dot\",\"width\":8},\"type\":\"line\",\"x0\":\"2024-09-03\",\"x1\":\"2024-09-03\",\"y0\":152.00999450683594,\"y1\":153.4499969482422},{\"line\":{\"color\":\"Purple\",\"dash\":\"dot\",\"width\":8},\"type\":\"line\",\"x0\":\"2024-09-16\",\"x1\":\"2024-09-16\",\"y0\":153.5,\"y1\":155.66000366210938},{\"line\":{\"color\":\"Purple\",\"dash\":\"dot\",\"width\":8},\"type\":\"line\",\"x0\":\"2024-09-17\",\"x1\":\"2024-09-17\",\"y0\":152.27000427246094,\"y1\":154.24000549316406},{\"line\":{\"color\":\"Purple\",\"dash\":\"dot\",\"width\":8},\"type\":\"line\",\"x0\":\"2024-09-23\",\"x1\":\"2024-09-23\",\"y0\":152.8000030517578,\"y1\":154.38999938964844}],\"title\":{\"text\":\"Stock Price with NR7 Days Marked\"}},                        {\"responsive\": true}                    ).then(function(){\n",
              "                            \n",
              "var gd = document.getElementById('9188c51e-bafd-4477-8b19-6f043dfac88b');\n",
              "var x = new MutationObserver(function (mutations, observer) {{\n",
              "        var display = window.getComputedStyle(gd).display;\n",
              "        if (!display || display === 'none') {{\n",
              "            console.log([gd, 'removed!']);\n",
              "            Plotly.purge(gd);\n",
              "            observer.disconnect();\n",
              "        }}\n",
              "}});\n",
              "\n",
              "// Listen for the removal of the full notebook cells\n",
              "var notebookContainer = gd.closest('#notebook-container');\n",
              "if (notebookContainer) {{\n",
              "    x.observe(notebookContainer, {childList: true});\n",
              "}}\n",
              "\n",
              "// Listen for the clearing of the current output cell\n",
              "var outputEl = gd.closest('.output');\n",
              "if (outputEl) {{\n",
              "    x.observe(outputEl, {childList: true});\n",
              "}}\n",
              "\n",
              "                        })                };                            </script>        </div>\n",
              "</body>\n",
              "</html>"
            ]
          },
          "metadata": {}
        }
      ]
    }
  ]
}